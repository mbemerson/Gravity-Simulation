{
 "cells": [
  {
   "cell_type": "code",
   "execution_count": 1,
   "id": "9acdf345-732f-46d9-af5c-02d504a3308b",
   "metadata": {},
   "outputs": [
    {
     "ename": "ModuleNotFoundError",
     "evalue": "No module named 'src'",
     "output_type": "error",
     "traceback": [
      "\u001b[0;31m---------------------------------------------------------------------------\u001b[0m",
      "\u001b[0;31mModuleNotFoundError\u001b[0m                       Traceback (most recent call last)",
      "Cell \u001b[0;32mIn[1], line 2\u001b[0m\n\u001b[1;32m      1\u001b[0m \u001b[38;5;28;01mimport\u001b[39;00m \u001b[38;5;21;01mnumpy\u001b[39;00m \u001b[38;5;28;01mas\u001b[39;00m \u001b[38;5;21;01mnp\u001b[39;00m\n\u001b[0;32m----> 2\u001b[0m \u001b[38;5;28;01mfrom\u001b[39;00m \u001b[38;5;21;01msrc\u001b[39;00m\u001b[38;5;21;01m.\u001b[39;00m\u001b[38;5;21;01mclasses\u001b[39;00m\u001b[38;5;21;01m.\u001b[39;00m\u001b[38;5;21;01mbody\u001b[39;00m \u001b[38;5;28;01mimport\u001b[39;00m Body\n\u001b[1;32m      3\u001b[0m \u001b[38;5;28;01mfrom\u001b[39;00m \u001b[38;5;21;01msrc\u001b[39;00m\u001b[38;5;21;01m.\u001b[39;00m\u001b[38;5;21;01mclasses\u001b[39;00m\u001b[38;5;21;01m.\u001b[39;00m\u001b[38;5;21;01msimulation\u001b[39;00m \u001b[38;5;28;01mimport\u001b[39;00m Simulation\n",
      "\u001b[0;31mModuleNotFoundError\u001b[0m: No module named 'src'"
     ]
    }
   ],
   "source": [
    "import numpy as np\n",
    "from src.classes.body import Body\n",
    "from src.classes.simulation import Simulation"
   ]
  },
  {
   "cell_type": "code",
   "execution_count": 2,
   "id": "038e8f50-c684-4555-90c9-4086b7d9b007",
   "metadata": {},
   "outputs": [
    {
     "ename": "NameError",
     "evalue": "name 'Body' is not defined",
     "output_type": "error",
     "traceback": [
      "\u001b[0;31m---------------------------------------------------------------------------\u001b[0m",
      "\u001b[0;31mNameError\u001b[0m                                 Traceback (most recent call last)",
      "Cell \u001b[0;32mIn[2], line 1\u001b[0m\n\u001b[0;32m----> 1\u001b[0m body1 \u001b[38;5;241m=\u001b[39m \u001b[43mBody\u001b[49m(np\u001b[38;5;241m.\u001b[39marray([[\u001b[38;5;241m500\u001b[39m, \u001b[38;5;241m300\u001b[39m, \u001b[38;5;241m0\u001b[39m]]), \u001b[38;5;241m6\u001b[39m \u001b[38;5;241m*\u001b[39m \u001b[38;5;28mpow\u001b[39m(\u001b[38;5;241m10\u001b[39m, \u001b[38;5;241m15\u001b[39m), (\u001b[38;5;241m255\u001b[39m, \u001b[38;5;241m255\u001b[39m, \u001b[38;5;241m255\u001b[39m))\n\u001b[1;32m      2\u001b[0m body1\u001b[38;5;241m.\u001b[39madd_velocity(np\u001b[38;5;241m.\u001b[39marray([[\u001b[38;5;241m40\u001b[39m, \u001b[38;5;241m0\u001b[39m, \u001b[38;5;241m0\u001b[39m]]))\n\u001b[1;32m      4\u001b[0m body2 \u001b[38;5;241m=\u001b[39m Body(np\u001b[38;5;241m.\u001b[39marray([[\u001b[38;5;241m600\u001b[39m, \u001b[38;5;241m200\u001b[39m, \u001b[38;5;241m0\u001b[39m]]), \u001b[38;5;241m6\u001b[39m \u001b[38;5;241m*\u001b[39m \u001b[38;5;28mpow\u001b[39m(\u001b[38;5;241m10\u001b[39m, \u001b[38;5;241m15\u001b[39m), (\u001b[38;5;241m0\u001b[39m, \u001b[38;5;241m255\u001b[39m, \u001b[38;5;241m0\u001b[39m))\n",
      "\u001b[0;31mNameError\u001b[0m: name 'Body' is not defined"
     ]
    }
   ],
   "source": [
    "body1 = Body(np.array([[500, 300, 0]]), 6 * pow(10, 15), (255, 255, 255))\n",
    "body1.add_velocity(np.array([[40, 0, 0]]))\n",
    "\n",
    "body2 = Body(np.array([[600, 200, 0]]), 6 * pow(10, 15), (0, 255, 0))\n",
    "body2.add_velocity(np.array([[-40, 0, 0]]))\n",
    "\n",
    "body3 = Body(np.array([[500, 500, 0]]), 6 * pow(10, 15), (255, 0, 0))\n",
    "body3.add_velocity(np.array([[50, 0, 0]]))"
   ]
  },
  {
   "cell_type": "code",
   "execution_count": 3,
   "id": "8b8e38a2-bbd7-4554-a405-59d25a9a7167",
   "metadata": {},
   "outputs": [
    {
     "ename": "NameError",
     "evalue": "name 'Simulation' is not defined",
     "output_type": "error",
     "traceback": [
      "\u001b[0;31m---------------------------------------------------------------------------\u001b[0m",
      "\u001b[0;31mNameError\u001b[0m                                 Traceback (most recent call last)",
      "Cell \u001b[0;32mIn[3], line 1\u001b[0m\n\u001b[0;32m----> 1\u001b[0m sim \u001b[38;5;241m=\u001b[39m \u001b[43mSimulation\u001b[49m()\n\u001b[1;32m      2\u001b[0m sim\u001b[38;5;241m.\u001b[39minitialise_environment([body1, body2, body3])\n\u001b[1;32m      3\u001b[0m sim\u001b[38;5;241m.\u001b[39mshow_environment()\n",
      "\u001b[0;31mNameError\u001b[0m: name 'Simulation' is not defined"
     ]
    }
   ],
   "source": [
    "sim = Simulation()\n",
    "sim.initialise_environment([body1, body2, body3])\n",
    "sim.show_environment()"
   ]
  },
  {
   "cell_type": "code",
   "execution_count": null,
   "id": "ae348e02-74d2-45e3-acd9-e68bd8125fd9",
   "metadata": {},
   "outputs": [],
   "source": []
  }
 ],
 "metadata": {
  "kernelspec": {
   "display_name": "Python 3 (ipykernel)",
   "language": "python",
   "name": "python3"
  },
  "language_info": {
   "codemirror_mode": {
    "name": "ipython",
    "version": 3
   },
   "file_extension": ".py",
   "mimetype": "text/x-python",
   "name": "python",
   "nbconvert_exporter": "python",
   "pygments_lexer": "ipython3",
   "version": "3.9.16"
  }
 },
 "nbformat": 4,
 "nbformat_minor": 5
}
